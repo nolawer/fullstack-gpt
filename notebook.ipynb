{
 "cells": [
  {
   "cell_type": "code",
   "execution_count": 22,
   "metadata": {},
   "outputs": [],
   "source": [
    "from langchain.chat_models import ChatOpenAI\n",
    "from langchain.prompts import ChatPromptTemplate\n",
    "from langchain.callbacks import StreamingStdOutCallbackHandler\n",
    "\n",
    "\n",
    "chat = ChatOpenAI(\n",
    "    temperature=0.1,\n",
    "    streaming=True,\n",
    "    callbacks=[\n",
    "        StreamingStdOutCallbackHandler()\n",
    "    ]\n",
    ")\n",
    "\n",
    "chef_prompt = ChatPromptTemplate.from_messages(\n",
    "    [\n",
    "        \"system\", \"너는 세계최고의 요리사야. 너는 요청받는 나라의 요리를 정하고 그 요리에 맞는 레시피를 추천할 수 있어.\",\n",
    "        \"human\", \"나는 {country}의 요리를 원해요.\"\n",
    "    ]\n",
    ")\n",
    "\n",
    "chef_chain = chef_prompt | chat\n",
    "\n",
    "veg_chef_prompt = ChatPromptTemplate.from_messages(\n",
    "    [\n",
    "        \"system\", \"너는 전통적인 채식주의 요리사야. 너는 전달받은 레시피를 기준으로 채식주의에 맞는 레시피로 변경하여 추천할 수 있어. 변경할 수 없는 레시피에는 레시피를 모르겠다고 대답해.\",\n",
    "        \"human\", \"{recipe}\"\n",
    "    ]\n",
    ")\n",
    "\n",
    "veg_chef_chain = veg_chef_prompt | chat\n",
    "\n",
    "final_chef = {\"recipe\" : chef_chain} | veg_chef_chain\n",
    "\n",
    "final_chef.invoke(\n",
    "    {\n",
    "        \"country\" :  \"한국\"\n",
    "    }\n",
    ")\n"
   ]
  }
 ],
 "metadata": {
  "kernelspec": {
   "display_name": "env",
   "language": "python",
   "name": "python3"
  },
  "language_info": {
   "codemirror_mode": {
    "name": "ipython",
    "version": 3
   },
   "file_extension": ".py",
   "mimetype": "text/x-python",
   "name": "python",
   "nbconvert_exporter": "python",
   "pygments_lexer": "ipython3",
   "version": "3.11.6"
  },
  "orig_nbformat": 4
 },
 "nbformat": 4,
 "nbformat_minor": 2
}
